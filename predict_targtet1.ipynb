{
 "cells": [
  {
   "cell_type": "code",
   "execution_count": 167,
   "metadata": {
    "collapsed": true,
    "ExecuteTime": {
     "end_time": "2024-10-23T08:57:00.756259600Z",
     "start_time": "2024-10-23T08:57:00.604951400Z"
    }
   },
   "outputs": [],
   "source": [
    "import pandas as pd\n",
    "import numpy as np\n",
    "from joblib import load"
   ]
  },
  {
   "cell_type": "code",
   "execution_count": 168,
   "outputs": [],
   "source": [
    "user = pd.read_parquet(\"user2.parquet\")\n",
    "friend = pd.read_parquet(\"friend2.parquet\")\n",
    "photo = pd.read_parquet(\"photo2.parquet\")\n",
    "biography = pd.read_parquet(\"biography2.parquet\")\n",
    "post = pd.read_parquet(\"post2.parquet\")\n",
    "group = pd.read_parquet(\"group_table2.parquet\")"
   ],
   "metadata": {
    "collapsed": false,
    "ExecuteTime": {
     "end_time": "2024-10-23T08:57:01.044670200Z",
     "start_time": "2024-10-23T08:57:00.621355Z"
    }
   }
  },
  {
   "cell_type": "code",
   "execution_count": 169,
   "outputs": [
    {
     "name": "stderr",
     "output_type": "stream",
     "text": [
      "C:\\Users\\hedge\\AppData\\Local\\Temp\\ipykernel_11948\\3957621221.py:5: FutureWarning: A value is trying to be set on a copy of a DataFrame or Series through chained assignment using an inplace method.\n",
      "The behavior will change in pandas 3.0. This inplace method will never work because the intermediate object on which we are setting values always behaves as a copy.\n",
      "\n",
      "For example, when doing 'df[col].method(value, inplace=True)', try using 'df.method({col: value}, inplace=True)' or df[col] = df[col].method(value) instead, to perform the operation inplace on the original object.\n",
      "\n",
      "\n",
      "  gr['name'].fillna('', inplace=True)\n"
     ]
    },
    {
     "data": {
      "text/plain": "   user_id anon_pab\n0      357        0\n0      358        2\n0      359        0\n0      361        0\n0      362        0\n..     ...      ...\n0      502        0\n0      503        0\n0      504        7\n0      505        0\n0      506        1\n\n[149 rows x 2 columns]",
      "text/html": "<div>\n<style scoped>\n    .dataframe tbody tr th:only-of-type {\n        vertical-align: middle;\n    }\n\n    .dataframe tbody tr th {\n        vertical-align: top;\n    }\n\n    .dataframe thead th {\n        text-align: right;\n    }\n</style>\n<table border=\"1\" class=\"dataframe\">\n  <thead>\n    <tr style=\"text-align: right;\">\n      <th></th>\n      <th>user_id</th>\n      <th>anon_pab</th>\n    </tr>\n  </thead>\n  <tbody>\n    <tr>\n      <th>0</th>\n      <td>357</td>\n      <td>0</td>\n    </tr>\n    <tr>\n      <th>0</th>\n      <td>358</td>\n      <td>2</td>\n    </tr>\n    <tr>\n      <th>0</th>\n      <td>359</td>\n      <td>0</td>\n    </tr>\n    <tr>\n      <th>0</th>\n      <td>361</td>\n      <td>0</td>\n    </tr>\n    <tr>\n      <th>0</th>\n      <td>362</td>\n      <td>0</td>\n    </tr>\n    <tr>\n      <th>...</th>\n      <td>...</td>\n      <td>...</td>\n    </tr>\n    <tr>\n      <th>0</th>\n      <td>502</td>\n      <td>0</td>\n    </tr>\n    <tr>\n      <th>0</th>\n      <td>503</td>\n      <td>0</td>\n    </tr>\n    <tr>\n      <th>0</th>\n      <td>504</td>\n      <td>7</td>\n    </tr>\n    <tr>\n      <th>0</th>\n      <td>505</td>\n      <td>0</td>\n    </tr>\n    <tr>\n      <th>0</th>\n      <td>506</td>\n      <td>1</td>\n    </tr>\n  </tbody>\n</table>\n<p>149 rows × 2 columns</p>\n</div>"
     },
     "execution_count": 169,
     "metadata": {},
     "output_type": "execute_result"
    }
   ],
   "source": [
    "newd = pd.DataFrame(columns=['user_id', 'anon_pab'])\n",
    "group2 = group\n",
    "# Группировка по user_id\n",
    "for user_id, gr in group2.groupby('user_id'):  # Исправленный цикл\n",
    "    gr['name'].fillna('', inplace=True)\n",
    "    counter = gr[gr['name'].str.lower().str.contains('аноним')].shape[0]\n",
    "    counter += gr[gr['name'].str.lower().str.contains('знакомств')].shape[0]\n",
    "    new_row = pd.DataFrame({'user_id': [user_id], 'anon_pab': [counter]})\n",
    "    newd = pd.concat([newd, new_row])\n",
    "anon_group = newd\n",
    "anon_group"
   ],
   "metadata": {
    "collapsed": false,
    "ExecuteTime": {
     "end_time": "2024-10-23T08:57:01.920977700Z",
     "start_time": "2024-10-23T08:57:00.889402100Z"
    }
   }
  },
  {
   "cell_type": "code",
   "execution_count": 170,
   "outputs": [
    {
     "name": "stderr",
     "output_type": "stream",
     "text": [
      "C:\\Users\\hedge\\AppData\\Local\\Temp\\ipykernel_11948\\1319405078.py:1: FutureWarning: DataFrame.applymap has been deprecated. Use DataFrame.map instead.\n",
      "  biography2 = biography.drop(columns=[\"id\", \"user_id\"]).applymap(lambda x: 0 if (x is None) else 1)\n"
     ]
    },
    {
     "data": {
      "text/plain": "     activity  interests  music  films  tv  books  games  quotes  about  \\\n0           0          0      0      0   0      0      0       0      0   \n1           0          0      0      0   0      0      0       0      0   \n2           0          0      0      0   0      0      0       0      0   \n3           0          0      0      0   0      0      0       0      0   \n4           0          0      0      0   0      0      0       0      0   \n..        ...        ...    ...    ...  ..    ...    ...     ...    ...   \n145         0          0      0      0   0      0      0       0      0   \n146         0          0      0      0   0      0      0       0      0   \n147         0          0      0      0   0      0      0       0      0   \n148         0          0      0      0   0      0      0       0      0   \n149         0          0      0      0   0      0      0       0      0   \n\n     user_id  \n0        357  \n1        358  \n2        359  \n3        360  \n4        361  \n..       ...  \n145      502  \n146      503  \n147      504  \n148      505  \n149      506  \n\n[150 rows x 10 columns]",
      "text/html": "<div>\n<style scoped>\n    .dataframe tbody tr th:only-of-type {\n        vertical-align: middle;\n    }\n\n    .dataframe tbody tr th {\n        vertical-align: top;\n    }\n\n    .dataframe thead th {\n        text-align: right;\n    }\n</style>\n<table border=\"1\" class=\"dataframe\">\n  <thead>\n    <tr style=\"text-align: right;\">\n      <th></th>\n      <th>activity</th>\n      <th>interests</th>\n      <th>music</th>\n      <th>films</th>\n      <th>tv</th>\n      <th>books</th>\n      <th>games</th>\n      <th>quotes</th>\n      <th>about</th>\n      <th>user_id</th>\n    </tr>\n  </thead>\n  <tbody>\n    <tr>\n      <th>0</th>\n      <td>0</td>\n      <td>0</td>\n      <td>0</td>\n      <td>0</td>\n      <td>0</td>\n      <td>0</td>\n      <td>0</td>\n      <td>0</td>\n      <td>0</td>\n      <td>357</td>\n    </tr>\n    <tr>\n      <th>1</th>\n      <td>0</td>\n      <td>0</td>\n      <td>0</td>\n      <td>0</td>\n      <td>0</td>\n      <td>0</td>\n      <td>0</td>\n      <td>0</td>\n      <td>0</td>\n      <td>358</td>\n    </tr>\n    <tr>\n      <th>2</th>\n      <td>0</td>\n      <td>0</td>\n      <td>0</td>\n      <td>0</td>\n      <td>0</td>\n      <td>0</td>\n      <td>0</td>\n      <td>0</td>\n      <td>0</td>\n      <td>359</td>\n    </tr>\n    <tr>\n      <th>3</th>\n      <td>0</td>\n      <td>0</td>\n      <td>0</td>\n      <td>0</td>\n      <td>0</td>\n      <td>0</td>\n      <td>0</td>\n      <td>0</td>\n      <td>0</td>\n      <td>360</td>\n    </tr>\n    <tr>\n      <th>4</th>\n      <td>0</td>\n      <td>0</td>\n      <td>0</td>\n      <td>0</td>\n      <td>0</td>\n      <td>0</td>\n      <td>0</td>\n      <td>0</td>\n      <td>0</td>\n      <td>361</td>\n    </tr>\n    <tr>\n      <th>...</th>\n      <td>...</td>\n      <td>...</td>\n      <td>...</td>\n      <td>...</td>\n      <td>...</td>\n      <td>...</td>\n      <td>...</td>\n      <td>...</td>\n      <td>...</td>\n      <td>...</td>\n    </tr>\n    <tr>\n      <th>145</th>\n      <td>0</td>\n      <td>0</td>\n      <td>0</td>\n      <td>0</td>\n      <td>0</td>\n      <td>0</td>\n      <td>0</td>\n      <td>0</td>\n      <td>0</td>\n      <td>502</td>\n    </tr>\n    <tr>\n      <th>146</th>\n      <td>0</td>\n      <td>0</td>\n      <td>0</td>\n      <td>0</td>\n      <td>0</td>\n      <td>0</td>\n      <td>0</td>\n      <td>0</td>\n      <td>0</td>\n      <td>503</td>\n    </tr>\n    <tr>\n      <th>147</th>\n      <td>0</td>\n      <td>0</td>\n      <td>0</td>\n      <td>0</td>\n      <td>0</td>\n      <td>0</td>\n      <td>0</td>\n      <td>0</td>\n      <td>0</td>\n      <td>504</td>\n    </tr>\n    <tr>\n      <th>148</th>\n      <td>0</td>\n      <td>0</td>\n      <td>0</td>\n      <td>0</td>\n      <td>0</td>\n      <td>0</td>\n      <td>0</td>\n      <td>0</td>\n      <td>0</td>\n      <td>505</td>\n    </tr>\n    <tr>\n      <th>149</th>\n      <td>0</td>\n      <td>0</td>\n      <td>0</td>\n      <td>0</td>\n      <td>0</td>\n      <td>0</td>\n      <td>0</td>\n      <td>0</td>\n      <td>0</td>\n      <td>506</td>\n    </tr>\n  </tbody>\n</table>\n<p>150 rows × 10 columns</p>\n</div>"
     },
     "execution_count": 170,
     "metadata": {},
     "output_type": "execute_result"
    }
   ],
   "source": [
    "biography2 = biography.drop(columns=[\"id\", \"user_id\"]).applymap(lambda x: 0 if (x is None) else 1)\n",
    "biography2[\"user_id\"] = biography[\"user_id\"]\n",
    "biography2"
   ],
   "metadata": {
    "collapsed": false,
    "ExecuteTime": {
     "end_time": "2024-10-23T08:57:02.089171900Z",
     "start_time": "2024-10-23T08:57:01.928806200Z"
    }
   }
  },
  {
   "cell_type": "code",
   "execution_count": 171,
   "outputs": [
    {
     "data": {
      "text/plain": "          id  user_id first_name   last_name         city education  \\\n0          1      357     Сергей    Траньков       Москва      None   \n1          2      357      Вадим  Марьинский       Москва      None   \n2          3      357       Олег    Соловьёв       Москва      None   \n3          4      357     Ксения  Молоканова       Москва      None   \n4          5      357    Татьяна   Хворостюк       Москва      None   \n...      ...      ...        ...         ...          ...       ...   \n38365  38366      506      Артур  Мартыненко        Ponce      None   \n38367  38368      506    Снежана       Сулим  Зеленогорск      None   \n38368  38369      506       Катя     Ревенко   Красноярск      None   \n38370  38371      506        Юля     Крюкова   Красноярск      None   \n38371  38372      506        Оля     Аносова   Красноярск      None   \n\n                                                    work  \n0                                                   None  \n1                                                   None  \n2                                                   None  \n3                                                   None  \n4      Заместитель директора по ВР.Психолог. Социальн...  \n...                                                  ...  \n38365                                               None  \n38367                                               None  \n38368                                               None  \n38370                                               None  \n38371                                               None  \n\n[20889 rows x 7 columns]",
      "text/html": "<div>\n<style scoped>\n    .dataframe tbody tr th:only-of-type {\n        vertical-align: middle;\n    }\n\n    .dataframe tbody tr th {\n        vertical-align: top;\n    }\n\n    .dataframe thead th {\n        text-align: right;\n    }\n</style>\n<table border=\"1\" class=\"dataframe\">\n  <thead>\n    <tr style=\"text-align: right;\">\n      <th></th>\n      <th>id</th>\n      <th>user_id</th>\n      <th>first_name</th>\n      <th>last_name</th>\n      <th>city</th>\n      <th>education</th>\n      <th>work</th>\n    </tr>\n  </thead>\n  <tbody>\n    <tr>\n      <th>0</th>\n      <td>1</td>\n      <td>357</td>\n      <td>Сергей</td>\n      <td>Траньков</td>\n      <td>Москва</td>\n      <td>None</td>\n      <td>None</td>\n    </tr>\n    <tr>\n      <th>1</th>\n      <td>2</td>\n      <td>357</td>\n      <td>Вадим</td>\n      <td>Марьинский</td>\n      <td>Москва</td>\n      <td>None</td>\n      <td>None</td>\n    </tr>\n    <tr>\n      <th>2</th>\n      <td>3</td>\n      <td>357</td>\n      <td>Олег</td>\n      <td>Соловьёв</td>\n      <td>Москва</td>\n      <td>None</td>\n      <td>None</td>\n    </tr>\n    <tr>\n      <th>3</th>\n      <td>4</td>\n      <td>357</td>\n      <td>Ксения</td>\n      <td>Молоканова</td>\n      <td>Москва</td>\n      <td>None</td>\n      <td>None</td>\n    </tr>\n    <tr>\n      <th>4</th>\n      <td>5</td>\n      <td>357</td>\n      <td>Татьяна</td>\n      <td>Хворостюк</td>\n      <td>Москва</td>\n      <td>None</td>\n      <td>Заместитель директора по ВР.Психолог. Социальн...</td>\n    </tr>\n    <tr>\n      <th>...</th>\n      <td>...</td>\n      <td>...</td>\n      <td>...</td>\n      <td>...</td>\n      <td>...</td>\n      <td>...</td>\n      <td>...</td>\n    </tr>\n    <tr>\n      <th>38365</th>\n      <td>38366</td>\n      <td>506</td>\n      <td>Артур</td>\n      <td>Мартыненко</td>\n      <td>Ponce</td>\n      <td>None</td>\n      <td>None</td>\n    </tr>\n    <tr>\n      <th>38367</th>\n      <td>38368</td>\n      <td>506</td>\n      <td>Снежана</td>\n      <td>Сулим</td>\n      <td>Зеленогорск</td>\n      <td>None</td>\n      <td>None</td>\n    </tr>\n    <tr>\n      <th>38368</th>\n      <td>38369</td>\n      <td>506</td>\n      <td>Катя</td>\n      <td>Ревенко</td>\n      <td>Красноярск</td>\n      <td>None</td>\n      <td>None</td>\n    </tr>\n    <tr>\n      <th>38370</th>\n      <td>38371</td>\n      <td>506</td>\n      <td>Юля</td>\n      <td>Крюкова</td>\n      <td>Красноярск</td>\n      <td>None</td>\n      <td>None</td>\n    </tr>\n    <tr>\n      <th>38371</th>\n      <td>38372</td>\n      <td>506</td>\n      <td>Оля</td>\n      <td>Аносова</td>\n      <td>Красноярск</td>\n      <td>None</td>\n      <td>None</td>\n    </tr>\n  </tbody>\n</table>\n<p>20889 rows × 7 columns</p>\n</div>"
     },
     "execution_count": 171,
     "metadata": {},
     "output_type": "execute_result"
    }
   ],
   "source": [
    "friend[\"city\"] = friend[\"city\"].apply(lambda x: None if (x is None or x == \"\") else x)\n",
    "friend = friend[friend[\"city\"].notna()]\n",
    "friend"
   ],
   "metadata": {
    "collapsed": false,
    "ExecuteTime": {
     "end_time": "2024-10-23T08:57:02.197928400Z",
     "start_time": "2024-10-23T08:57:01.960712200Z"
    }
   }
  },
  {
   "cell_type": "code",
   "execution_count": 172,
   "outputs": [
    {
     "data": {
      "text/plain": "         diff_city_count\nuser_id                 \n357                   61\n358                    2\n359                   12\n360                  272\n361                   35\n...                  ...\n502                   27\n503                   26\n504                   32\n505                   50\n506                    4\n\n[149 rows x 1 columns]",
      "text/html": "<div>\n<style scoped>\n    .dataframe tbody tr th:only-of-type {\n        vertical-align: middle;\n    }\n\n    .dataframe tbody tr th {\n        vertical-align: top;\n    }\n\n    .dataframe thead th {\n        text-align: right;\n    }\n</style>\n<table border=\"1\" class=\"dataframe\">\n  <thead>\n    <tr style=\"text-align: right;\">\n      <th></th>\n      <th>diff_city_count</th>\n    </tr>\n    <tr>\n      <th>user_id</th>\n      <th></th>\n    </tr>\n  </thead>\n  <tbody>\n    <tr>\n      <th>357</th>\n      <td>61</td>\n    </tr>\n    <tr>\n      <th>358</th>\n      <td>2</td>\n    </tr>\n    <tr>\n      <th>359</th>\n      <td>12</td>\n    </tr>\n    <tr>\n      <th>360</th>\n      <td>272</td>\n    </tr>\n    <tr>\n      <th>361</th>\n      <td>35</td>\n    </tr>\n    <tr>\n      <th>...</th>\n      <td>...</td>\n    </tr>\n    <tr>\n      <th>502</th>\n      <td>27</td>\n    </tr>\n    <tr>\n      <th>503</th>\n      <td>26</td>\n    </tr>\n    <tr>\n      <th>504</th>\n      <td>32</td>\n    </tr>\n    <tr>\n      <th>505</th>\n      <td>50</td>\n    </tr>\n    <tr>\n      <th>506</th>\n      <td>4</td>\n    </tr>\n  </tbody>\n</table>\n<p>149 rows × 1 columns</p>\n</div>"
     },
     "execution_count": 172,
     "metadata": {},
     "output_type": "execute_result"
    }
   ],
   "source": [
    "diff_city_count = friend.groupby('user_id').agg(diff_city_count=(\"city\", \"nunique\"))\n",
    "diff_city_count"
   ],
   "metadata": {
    "collapsed": false,
    "ExecuteTime": {
     "end_time": "2024-10-23T08:57:02.234263100Z",
     "start_time": "2024-10-23T08:57:02.016749800Z"
    }
   }
  },
  {
   "cell_type": "code",
   "execution_count": 173,
   "outputs": [
    {
     "data": {
      "text/plain": "         friend_count\nuser_id              \n357               249\n358                 9\n359                17\n360              1525\n361               139\n...               ...\n502                99\n503               117\n504               140\n505               384\n506                55\n\n[149 rows x 1 columns]",
      "text/html": "<div>\n<style scoped>\n    .dataframe tbody tr th:only-of-type {\n        vertical-align: middle;\n    }\n\n    .dataframe tbody tr th {\n        vertical-align: top;\n    }\n\n    .dataframe thead th {\n        text-align: right;\n    }\n</style>\n<table border=\"1\" class=\"dataframe\">\n  <thead>\n    <tr style=\"text-align: right;\">\n      <th></th>\n      <th>friend_count</th>\n    </tr>\n    <tr>\n      <th>user_id</th>\n      <th></th>\n    </tr>\n  </thead>\n  <tbody>\n    <tr>\n      <th>357</th>\n      <td>249</td>\n    </tr>\n    <tr>\n      <th>358</th>\n      <td>9</td>\n    </tr>\n    <tr>\n      <th>359</th>\n      <td>17</td>\n    </tr>\n    <tr>\n      <th>360</th>\n      <td>1525</td>\n    </tr>\n    <tr>\n      <th>361</th>\n      <td>139</td>\n    </tr>\n    <tr>\n      <th>...</th>\n      <td>...</td>\n    </tr>\n    <tr>\n      <th>502</th>\n      <td>99</td>\n    </tr>\n    <tr>\n      <th>503</th>\n      <td>117</td>\n    </tr>\n    <tr>\n      <th>504</th>\n      <td>140</td>\n    </tr>\n    <tr>\n      <th>505</th>\n      <td>384</td>\n    </tr>\n    <tr>\n      <th>506</th>\n      <td>55</td>\n    </tr>\n  </tbody>\n</table>\n<p>149 rows × 1 columns</p>\n</div>"
     },
     "execution_count": 173,
     "metadata": {},
     "output_type": "execute_result"
    }
   ],
   "source": [
    "friends_count = friend.groupby('user_id').agg(friend_count=(\"id\", \"count\"))\n",
    "friends_count"
   ],
   "metadata": {
    "collapsed": false,
    "ExecuteTime": {
     "end_time": "2024-10-23T08:57:02.235275200Z",
     "start_time": "2024-10-23T08:57:02.064077700Z"
    }
   }
  },
  {
   "cell_type": "code",
   "execution_count": 174,
   "outputs": [
    {
     "data": {
      "text/plain": "         friend_count\nuser_id              \n357               249\n358                 9\n359                17\n360              1525\n361               139\n...               ...\n502                99\n503               117\n504               140\n505               384\n506                55\n\n[149 rows x 1 columns]",
      "text/html": "<div>\n<style scoped>\n    .dataframe tbody tr th:only-of-type {\n        vertical-align: middle;\n    }\n\n    .dataframe tbody tr th {\n        vertical-align: top;\n    }\n\n    .dataframe thead th {\n        text-align: right;\n    }\n</style>\n<table border=\"1\" class=\"dataframe\">\n  <thead>\n    <tr style=\"text-align: right;\">\n      <th></th>\n      <th>friend_count</th>\n    </tr>\n    <tr>\n      <th>user_id</th>\n      <th></th>\n    </tr>\n  </thead>\n  <tbody>\n    <tr>\n      <th>357</th>\n      <td>249</td>\n    </tr>\n    <tr>\n      <th>358</th>\n      <td>9</td>\n    </tr>\n    <tr>\n      <th>359</th>\n      <td>17</td>\n    </tr>\n    <tr>\n      <th>360</th>\n      <td>1525</td>\n    </tr>\n    <tr>\n      <th>361</th>\n      <td>139</td>\n    </tr>\n    <tr>\n      <th>...</th>\n      <td>...</td>\n    </tr>\n    <tr>\n      <th>502</th>\n      <td>99</td>\n    </tr>\n    <tr>\n      <th>503</th>\n      <td>117</td>\n    </tr>\n    <tr>\n      <th>504</th>\n      <td>140</td>\n    </tr>\n    <tr>\n      <th>505</th>\n      <td>384</td>\n    </tr>\n    <tr>\n      <th>506</th>\n      <td>55</td>\n    </tr>\n  </tbody>\n</table>\n<p>149 rows × 1 columns</p>\n</div>"
     },
     "execution_count": 174,
     "metadata": {},
     "output_type": "execute_result"
    }
   ],
   "source": [
    "friends_count = friend.groupby('user_id').agg(friend_count=(\"id\", \"count\"))\n",
    "friends_count"
   ],
   "metadata": {
    "collapsed": false,
    "ExecuteTime": {
     "end_time": "2024-10-23T08:57:02.238028Z",
     "start_time": "2024-10-23T08:57:02.102550200Z"
    }
   }
  },
  {
   "cell_type": "code",
   "execution_count": 175,
   "outputs": [
    {
     "data": {
      "text/plain": "         avg_photo_likes\nuser_id                 \n357           109.641026\n359           111.000000\n360            89.000000\n361             7.000000\n362            98.000000\n...                  ...\n502           109.000000\n503            82.533333\n504            85.000000\n505            13.115385\n506            43.750000\n\n[148 rows x 1 columns]",
      "text/html": "<div>\n<style scoped>\n    .dataframe tbody tr th:only-of-type {\n        vertical-align: middle;\n    }\n\n    .dataframe tbody tr th {\n        vertical-align: top;\n    }\n\n    .dataframe thead th {\n        text-align: right;\n    }\n</style>\n<table border=\"1\" class=\"dataframe\">\n  <thead>\n    <tr style=\"text-align: right;\">\n      <th></th>\n      <th>avg_photo_likes</th>\n    </tr>\n    <tr>\n      <th>user_id</th>\n      <th></th>\n    </tr>\n  </thead>\n  <tbody>\n    <tr>\n      <th>357</th>\n      <td>109.641026</td>\n    </tr>\n    <tr>\n      <th>359</th>\n      <td>111.000000</td>\n    </tr>\n    <tr>\n      <th>360</th>\n      <td>89.000000</td>\n    </tr>\n    <tr>\n      <th>361</th>\n      <td>7.000000</td>\n    </tr>\n    <tr>\n      <th>362</th>\n      <td>98.000000</td>\n    </tr>\n    <tr>\n      <th>...</th>\n      <td>...</td>\n    </tr>\n    <tr>\n      <th>502</th>\n      <td>109.000000</td>\n    </tr>\n    <tr>\n      <th>503</th>\n      <td>82.533333</td>\n    </tr>\n    <tr>\n      <th>504</th>\n      <td>85.000000</td>\n    </tr>\n    <tr>\n      <th>505</th>\n      <td>13.115385</td>\n    </tr>\n    <tr>\n      <th>506</th>\n      <td>43.750000</td>\n    </tr>\n  </tbody>\n</table>\n<p>148 rows × 1 columns</p>\n</div>"
     },
     "execution_count": 175,
     "metadata": {},
     "output_type": "execute_result"
    }
   ],
   "source": [
    "avg_photo_likes = photo.groupby('user_id').agg(avg_photo_likes=(\"like_count\", \"mean\"))\n",
    "avg_photo_likes"
   ],
   "metadata": {
    "collapsed": false,
    "ExecuteTime": {
     "end_time": "2024-10-23T08:57:02.360318800Z",
     "start_time": "2024-10-23T08:57:02.135341900Z"
    }
   }
  },
  {
   "cell_type": "code",
   "execution_count": 176,
   "outputs": [
    {
     "data": {
      "text/plain": "         photo_count\nuser_id             \n357               39\n359                1\n360                2\n361                3\n362                2\n...              ...\n502                2\n503               15\n504                2\n505               26\n506                4\n\n[148 rows x 1 columns]",
      "text/html": "<div>\n<style scoped>\n    .dataframe tbody tr th:only-of-type {\n        vertical-align: middle;\n    }\n\n    .dataframe tbody tr th {\n        vertical-align: top;\n    }\n\n    .dataframe thead th {\n        text-align: right;\n    }\n</style>\n<table border=\"1\" class=\"dataframe\">\n  <thead>\n    <tr style=\"text-align: right;\">\n      <th></th>\n      <th>photo_count</th>\n    </tr>\n    <tr>\n      <th>user_id</th>\n      <th></th>\n    </tr>\n  </thead>\n  <tbody>\n    <tr>\n      <th>357</th>\n      <td>39</td>\n    </tr>\n    <tr>\n      <th>359</th>\n      <td>1</td>\n    </tr>\n    <tr>\n      <th>360</th>\n      <td>2</td>\n    </tr>\n    <tr>\n      <th>361</th>\n      <td>3</td>\n    </tr>\n    <tr>\n      <th>362</th>\n      <td>2</td>\n    </tr>\n    <tr>\n      <th>...</th>\n      <td>...</td>\n    </tr>\n    <tr>\n      <th>502</th>\n      <td>2</td>\n    </tr>\n    <tr>\n      <th>503</th>\n      <td>15</td>\n    </tr>\n    <tr>\n      <th>504</th>\n      <td>2</td>\n    </tr>\n    <tr>\n      <th>505</th>\n      <td>26</td>\n    </tr>\n    <tr>\n      <th>506</th>\n      <td>4</td>\n    </tr>\n  </tbody>\n</table>\n<p>148 rows × 1 columns</p>\n</div>"
     },
     "execution_count": 176,
     "metadata": {},
     "output_type": "execute_result"
    }
   ],
   "source": [
    "photo_count = photo.groupby('user_id').agg(photo_count=(\"id\", \"count\"))\n",
    "photo_count"
   ],
   "metadata": {
    "collapsed": false,
    "ExecuteTime": {
     "end_time": "2024-10-23T08:57:02.362200100Z",
     "start_time": "2024-10-23T08:57:02.182829500Z"
    }
   }
  },
  {
   "cell_type": "code",
   "execution_count": 177,
   "outputs": [
    {
     "data": {
      "text/plain": "         post_count_owner\nuser_id                  \n357                     8\n359                     4\n360                    10\n361                    10\n362                     2\n...                   ...\n502                     3\n503                     6\n504                     4\n505                    14\n506                     3\n\n[136 rows x 1 columns]",
      "text/html": "<div>\n<style scoped>\n    .dataframe tbody tr th:only-of-type {\n        vertical-align: middle;\n    }\n\n    .dataframe tbody tr th {\n        vertical-align: top;\n    }\n\n    .dataframe thead th {\n        text-align: right;\n    }\n</style>\n<table border=\"1\" class=\"dataframe\">\n  <thead>\n    <tr style=\"text-align: right;\">\n      <th></th>\n      <th>post_count_owner</th>\n    </tr>\n    <tr>\n      <th>user_id</th>\n      <th></th>\n    </tr>\n  </thead>\n  <tbody>\n    <tr>\n      <th>357</th>\n      <td>8</td>\n    </tr>\n    <tr>\n      <th>359</th>\n      <td>4</td>\n    </tr>\n    <tr>\n      <th>360</th>\n      <td>10</td>\n    </tr>\n    <tr>\n      <th>361</th>\n      <td>10</td>\n    </tr>\n    <tr>\n      <th>362</th>\n      <td>2</td>\n    </tr>\n    <tr>\n      <th>...</th>\n      <td>...</td>\n    </tr>\n    <tr>\n      <th>502</th>\n      <td>3</td>\n    </tr>\n    <tr>\n      <th>503</th>\n      <td>6</td>\n    </tr>\n    <tr>\n      <th>504</th>\n      <td>4</td>\n    </tr>\n    <tr>\n      <th>505</th>\n      <td>14</td>\n    </tr>\n    <tr>\n      <th>506</th>\n      <td>3</td>\n    </tr>\n  </tbody>\n</table>\n<p>136 rows × 1 columns</p>\n</div>"
     },
     "execution_count": 177,
     "metadata": {},
     "output_type": "execute_result"
    }
   ],
   "source": [
    "post_count_owner = post[post[\"isowner\"] == 1].groupby('user_id').agg(post_count_owner=(\"id\", \"count\"))\n",
    "post_count_owner"
   ],
   "metadata": {
    "collapsed": false,
    "ExecuteTime": {
     "end_time": "2024-10-23T08:57:02.472771100Z",
     "start_time": "2024-10-23T08:57:02.211673100Z"
    }
   }
  },
  {
   "cell_type": "code",
   "execution_count": 178,
   "outputs": [
    {
     "data": {
      "text/plain": "         post_count_friend\nuser_id                   \n357                     12\n358                     20\n359                      7\n360                     10\n361                     10\n363                      1\n364                      2\n366                      2\n367                      2\n370                      2\n371                      1\n375                      1\n377                      1\n379                      2\n380                      2\n382                     16\n384                     17\n390                      8\n396                      7\n398                      5\n410                      1\n414                     20\n417                      7\n418                      5\n419                      9\n421                      5\n423                      6\n426                      3\n428                      1\n432                      2\n434                      2\n436                      4\n437                      1\n438                      1\n440                      5\n445                      1\n447                      1\n451                      2\n456                      6\n457                      1\n461                      1\n463                      2\n466                      1\n467                     15\n470                      6\n482                      3\n483                      1\n484                      2\n487                      8\n490                      1\n491                      1\n492                      1\n495                      4\n496                      4\n498                      1\n501                      1\n505                      6",
      "text/html": "<div>\n<style scoped>\n    .dataframe tbody tr th:only-of-type {\n        vertical-align: middle;\n    }\n\n    .dataframe tbody tr th {\n        vertical-align: top;\n    }\n\n    .dataframe thead th {\n        text-align: right;\n    }\n</style>\n<table border=\"1\" class=\"dataframe\">\n  <thead>\n    <tr style=\"text-align: right;\">\n      <th></th>\n      <th>post_count_friend</th>\n    </tr>\n    <tr>\n      <th>user_id</th>\n      <th></th>\n    </tr>\n  </thead>\n  <tbody>\n    <tr>\n      <th>357</th>\n      <td>12</td>\n    </tr>\n    <tr>\n      <th>358</th>\n      <td>20</td>\n    </tr>\n    <tr>\n      <th>359</th>\n      <td>7</td>\n    </tr>\n    <tr>\n      <th>360</th>\n      <td>10</td>\n    </tr>\n    <tr>\n      <th>361</th>\n      <td>10</td>\n    </tr>\n    <tr>\n      <th>363</th>\n      <td>1</td>\n    </tr>\n    <tr>\n      <th>364</th>\n      <td>2</td>\n    </tr>\n    <tr>\n      <th>366</th>\n      <td>2</td>\n    </tr>\n    <tr>\n      <th>367</th>\n      <td>2</td>\n    </tr>\n    <tr>\n      <th>370</th>\n      <td>2</td>\n    </tr>\n    <tr>\n      <th>371</th>\n      <td>1</td>\n    </tr>\n    <tr>\n      <th>375</th>\n      <td>1</td>\n    </tr>\n    <tr>\n      <th>377</th>\n      <td>1</td>\n    </tr>\n    <tr>\n      <th>379</th>\n      <td>2</td>\n    </tr>\n    <tr>\n      <th>380</th>\n      <td>2</td>\n    </tr>\n    <tr>\n      <th>382</th>\n      <td>16</td>\n    </tr>\n    <tr>\n      <th>384</th>\n      <td>17</td>\n    </tr>\n    <tr>\n      <th>390</th>\n      <td>8</td>\n    </tr>\n    <tr>\n      <th>396</th>\n      <td>7</td>\n    </tr>\n    <tr>\n      <th>398</th>\n      <td>5</td>\n    </tr>\n    <tr>\n      <th>410</th>\n      <td>1</td>\n    </tr>\n    <tr>\n      <th>414</th>\n      <td>20</td>\n    </tr>\n    <tr>\n      <th>417</th>\n      <td>7</td>\n    </tr>\n    <tr>\n      <th>418</th>\n      <td>5</td>\n    </tr>\n    <tr>\n      <th>419</th>\n      <td>9</td>\n    </tr>\n    <tr>\n      <th>421</th>\n      <td>5</td>\n    </tr>\n    <tr>\n      <th>423</th>\n      <td>6</td>\n    </tr>\n    <tr>\n      <th>426</th>\n      <td>3</td>\n    </tr>\n    <tr>\n      <th>428</th>\n      <td>1</td>\n    </tr>\n    <tr>\n      <th>432</th>\n      <td>2</td>\n    </tr>\n    <tr>\n      <th>434</th>\n      <td>2</td>\n    </tr>\n    <tr>\n      <th>436</th>\n      <td>4</td>\n    </tr>\n    <tr>\n      <th>437</th>\n      <td>1</td>\n    </tr>\n    <tr>\n      <th>438</th>\n      <td>1</td>\n    </tr>\n    <tr>\n      <th>440</th>\n      <td>5</td>\n    </tr>\n    <tr>\n      <th>445</th>\n      <td>1</td>\n    </tr>\n    <tr>\n      <th>447</th>\n      <td>1</td>\n    </tr>\n    <tr>\n      <th>451</th>\n      <td>2</td>\n    </tr>\n    <tr>\n      <th>456</th>\n      <td>6</td>\n    </tr>\n    <tr>\n      <th>457</th>\n      <td>1</td>\n    </tr>\n    <tr>\n      <th>461</th>\n      <td>1</td>\n    </tr>\n    <tr>\n      <th>463</th>\n      <td>2</td>\n    </tr>\n    <tr>\n      <th>466</th>\n      <td>1</td>\n    </tr>\n    <tr>\n      <th>467</th>\n      <td>15</td>\n    </tr>\n    <tr>\n      <th>470</th>\n      <td>6</td>\n    </tr>\n    <tr>\n      <th>482</th>\n      <td>3</td>\n    </tr>\n    <tr>\n      <th>483</th>\n      <td>1</td>\n    </tr>\n    <tr>\n      <th>484</th>\n      <td>2</td>\n    </tr>\n    <tr>\n      <th>487</th>\n      <td>8</td>\n    </tr>\n    <tr>\n      <th>490</th>\n      <td>1</td>\n    </tr>\n    <tr>\n      <th>491</th>\n      <td>1</td>\n    </tr>\n    <tr>\n      <th>492</th>\n      <td>1</td>\n    </tr>\n    <tr>\n      <th>495</th>\n      <td>4</td>\n    </tr>\n    <tr>\n      <th>496</th>\n      <td>4</td>\n    </tr>\n    <tr>\n      <th>498</th>\n      <td>1</td>\n    </tr>\n    <tr>\n      <th>501</th>\n      <td>1</td>\n    </tr>\n    <tr>\n      <th>505</th>\n      <td>6</td>\n    </tr>\n  </tbody>\n</table>\n</div>"
     },
     "execution_count": 178,
     "metadata": {},
     "output_type": "execute_result"
    }
   ],
   "source": [
    "post_count_friend = post[post[\"isowner\"] == 0].groupby('user_id').agg(post_count_friend=(\"id\", \"count\"))\n",
    "post_count_friend"
   ],
   "metadata": {
    "collapsed": false,
    "ExecuteTime": {
     "end_time": "2024-10-23T08:57:02.523592Z",
     "start_time": "2024-10-23T08:57:02.248531600Z"
    }
   }
  },
  {
   "cell_type": "code",
   "execution_count": 179,
   "outputs": [
    {
     "data": {
      "text/plain": "         post_count_delete\nuser_id                   \n357                      1\n358                     17\n359                      7\n361                      1\n379                      1\n396                      2\n398                      1\n414                      3\n419                      1\n421                      3\n436                      1\n440                      1\n445                      1\n456                      1\n467                      1\n487                      2\n498                      1",
      "text/html": "<div>\n<style scoped>\n    .dataframe tbody tr th:only-of-type {\n        vertical-align: middle;\n    }\n\n    .dataframe tbody tr th {\n        vertical-align: top;\n    }\n\n    .dataframe thead th {\n        text-align: right;\n    }\n</style>\n<table border=\"1\" class=\"dataframe\">\n  <thead>\n    <tr style=\"text-align: right;\">\n      <th></th>\n      <th>post_count_delete</th>\n    </tr>\n    <tr>\n      <th>user_id</th>\n      <th></th>\n    </tr>\n  </thead>\n  <tbody>\n    <tr>\n      <th>357</th>\n      <td>1</td>\n    </tr>\n    <tr>\n      <th>358</th>\n      <td>17</td>\n    </tr>\n    <tr>\n      <th>359</th>\n      <td>7</td>\n    </tr>\n    <tr>\n      <th>361</th>\n      <td>1</td>\n    </tr>\n    <tr>\n      <th>379</th>\n      <td>1</td>\n    </tr>\n    <tr>\n      <th>396</th>\n      <td>2</td>\n    </tr>\n    <tr>\n      <th>398</th>\n      <td>1</td>\n    </tr>\n    <tr>\n      <th>414</th>\n      <td>3</td>\n    </tr>\n    <tr>\n      <th>419</th>\n      <td>1</td>\n    </tr>\n    <tr>\n      <th>421</th>\n      <td>3</td>\n    </tr>\n    <tr>\n      <th>436</th>\n      <td>1</td>\n    </tr>\n    <tr>\n      <th>440</th>\n      <td>1</td>\n    </tr>\n    <tr>\n      <th>445</th>\n      <td>1</td>\n    </tr>\n    <tr>\n      <th>456</th>\n      <td>1</td>\n    </tr>\n    <tr>\n      <th>467</th>\n      <td>1</td>\n    </tr>\n    <tr>\n      <th>487</th>\n      <td>2</td>\n    </tr>\n    <tr>\n      <th>498</th>\n      <td>1</td>\n    </tr>\n  </tbody>\n</table>\n</div>"
     },
     "execution_count": 179,
     "metadata": {},
     "output_type": "execute_result"
    }
   ],
   "source": [
    "post_count_delete = post[post[\"text\"] == \"Запись удалена\"].groupby('user_id').agg(post_count_delete=(\"id\", \"count\"))\n",
    "post_count_delete"
   ],
   "metadata": {
    "collapsed": false,
    "ExecuteTime": {
     "end_time": "2024-10-23T08:57:02.571259800Z",
     "start_time": "2024-10-23T08:57:02.286049900Z"
    }
   }
  },
  {
   "cell_type": "code",
   "execution_count": 180,
   "outputs": [
    {
     "data": {
      "text/plain": "         group_count\nuser_id             \n357               48\n358                4\n359                2\n361                4\n362               44\n...              ...\n502               79\n503               23\n504              200\n505              200\n506              101\n\n[149 rows x 1 columns]",
      "text/html": "<div>\n<style scoped>\n    .dataframe tbody tr th:only-of-type {\n        vertical-align: middle;\n    }\n\n    .dataframe tbody tr th {\n        vertical-align: top;\n    }\n\n    .dataframe thead th {\n        text-align: right;\n    }\n</style>\n<table border=\"1\" class=\"dataframe\">\n  <thead>\n    <tr style=\"text-align: right;\">\n      <th></th>\n      <th>group_count</th>\n    </tr>\n    <tr>\n      <th>user_id</th>\n      <th></th>\n    </tr>\n  </thead>\n  <tbody>\n    <tr>\n      <th>357</th>\n      <td>48</td>\n    </tr>\n    <tr>\n      <th>358</th>\n      <td>4</td>\n    </tr>\n    <tr>\n      <th>359</th>\n      <td>2</td>\n    </tr>\n    <tr>\n      <th>361</th>\n      <td>4</td>\n    </tr>\n    <tr>\n      <th>362</th>\n      <td>44</td>\n    </tr>\n    <tr>\n      <th>...</th>\n      <td>...</td>\n    </tr>\n    <tr>\n      <th>502</th>\n      <td>79</td>\n    </tr>\n    <tr>\n      <th>503</th>\n      <td>23</td>\n    </tr>\n    <tr>\n      <th>504</th>\n      <td>200</td>\n    </tr>\n    <tr>\n      <th>505</th>\n      <td>200</td>\n    </tr>\n    <tr>\n      <th>506</th>\n      <td>101</td>\n    </tr>\n  </tbody>\n</table>\n<p>149 rows × 1 columns</p>\n</div>"
     },
     "execution_count": 180,
     "metadata": {},
     "output_type": "execute_result"
    }
   ],
   "source": [
    "group_count = group.groupby('user_id').agg(group_count=(\"id\", \"count\"))\n",
    "group_count"
   ],
   "metadata": {
    "collapsed": false,
    "ExecuteTime": {
     "end_time": "2024-10-23T08:57:02.571259800Z",
     "start_time": "2024-10-23T08:57:02.327799900Z"
    }
   }
  },
  {
   "cell_type": "code",
   "execution_count": 181,
   "outputs": [],
   "source": [
    "user_new = user\n",
    "user_new[\"user_id\"] = user[\"id\"]\n",
    "user_new = user_new.drop(\"id\", axis=1)\n",
    "user_new = user_new.merge(avg_photo_likes, left_on=\"user_id\", right_on=\"user_id\", how=\"left\")\n",
    "user_new = user_new.merge(photo_count, left_on=\"user_id\", right_on=\"user_id\", how=\"left\")\n",
    "user_new = user_new.merge(post_count_owner, left_on=\"user_id\", right_on=\"user_id\", how=\"left\")\n",
    "user_new = user_new.merge(post_count_friend, left_on=\"user_id\", right_on=\"user_id\", how=\"left\")\n",
    "user_new = user_new.merge(post_count_delete, left_on=\"user_id\", right_on=\"user_id\", how=\"left\")\n",
    "user_new = user_new.merge(group_count, left_on=\"user_id\", right_on=\"user_id\", how=\"left\")\n",
    "user_new = user_new.merge(anon_group, left_on=\"user_id\", right_on=\"user_id\", how=\"left\")\n",
    "user_new = user_new.merge(diff_city_count, left_on=\"user_id\", right_on=\"user_id\", how=\"left\")\n",
    "user_new = user_new.merge(friends_count, left_on=\"user_id\", right_on=\"user_id\", how=\"left\")"
   ],
   "metadata": {
    "collapsed": false,
    "ExecuteTime": {
     "end_time": "2024-10-23T08:57:02.779257900Z",
     "start_time": "2024-10-23T08:57:02.353691100Z"
    }
   }
  },
  {
   "cell_type": "code",
   "execution_count": 182,
   "outputs": [
    {
     "name": "stderr",
     "output_type": "stream",
     "text": [
      "C:\\Users\\hedge\\AppData\\Local\\Temp\\ipykernel_11948\\660145367.py:7: FutureWarning: Downcasting object dtype arrays on .fillna, .ffill, .bfill is deprecated and will change in a future version. Call result.infer_objects(copy=False) instead. To opt-in to the future behavior, set `pd.set_option('future.no_silent_downcasting', True)`\n",
      "  user_new.fillna(-3, inplace=True)\n"
     ]
    },
    {
     "data": {
      "text/plain": "         vk_id       first_name   last_name birth_date  age  user_id  \\\n0    447989889            Арина    Анурьева   1.2.2005   19      357   \n1    531789659              Xxx         Xxx   1.2.2005   19      358   \n2    310682547          Красный         Луч   1.2.2005   19      359   \n3    533102471            Wanny     Laemsan   1.2.2005   19      360   \n4    563215118  Channel-Myanmar      Movies   1.2.2005   19      361   \n..         ...              ...         ...        ...  ...      ...   \n145  474922593            Костя    Вишняков   1.2.2005   19      502   \n146  312572160             Саша  Москвичёва   1.2.2005   19      503   \n147  392523496             Омар   Магомедов   1.2.2005   19      504   \n148  442738014       Константин      Савчук   1.2.2005   19      505   \n149  394273676            Алёна   Николаева   1.2.2005   19      506   \n\n     avg_photo_likes  photo_count  post_count_owner  post_count_friend  \\\n0         109.641026         39.0               8.0               12.0   \n1           0.000000          0.0               0.0               20.0   \n2         111.000000          1.0               4.0                7.0   \n3          89.000000          2.0              10.0               10.0   \n4           7.000000          3.0              10.0               10.0   \n..               ...          ...               ...                ...   \n145       109.000000          2.0               3.0                0.0   \n146        82.533333         15.0               6.0                0.0   \n147        85.000000          2.0               4.0                0.0   \n148        13.115385         26.0              14.0                6.0   \n149        43.750000          4.0               3.0                0.0   \n\n     post_count_delete  group_count  anon_pab  diff_city_count  friend_count  \n0                  1.0         48.0         0             61.0         249.0  \n1                 17.0          4.0         2              2.0           9.0  \n2                  7.0          2.0         0             12.0          17.0  \n3                  0.0         -3.0        -3            272.0        1525.0  \n4                  1.0          4.0         0             35.0         139.0  \n..                 ...          ...       ...              ...           ...  \n145                0.0         79.0         0             27.0          99.0  \n146                0.0         23.0         0             26.0         117.0  \n147                0.0        200.0         7             32.0         140.0  \n148                0.0        200.0         0             50.0         384.0  \n149                0.0        101.0         1              4.0          55.0  \n\n[150 rows x 15 columns]",
      "text/html": "<div>\n<style scoped>\n    .dataframe tbody tr th:only-of-type {\n        vertical-align: middle;\n    }\n\n    .dataframe tbody tr th {\n        vertical-align: top;\n    }\n\n    .dataframe thead th {\n        text-align: right;\n    }\n</style>\n<table border=\"1\" class=\"dataframe\">\n  <thead>\n    <tr style=\"text-align: right;\">\n      <th></th>\n      <th>vk_id</th>\n      <th>first_name</th>\n      <th>last_name</th>\n      <th>birth_date</th>\n      <th>age</th>\n      <th>user_id</th>\n      <th>avg_photo_likes</th>\n      <th>photo_count</th>\n      <th>post_count_owner</th>\n      <th>post_count_friend</th>\n      <th>post_count_delete</th>\n      <th>group_count</th>\n      <th>anon_pab</th>\n      <th>diff_city_count</th>\n      <th>friend_count</th>\n    </tr>\n  </thead>\n  <tbody>\n    <tr>\n      <th>0</th>\n      <td>447989889</td>\n      <td>Арина</td>\n      <td>Анурьева</td>\n      <td>1.2.2005</td>\n      <td>19</td>\n      <td>357</td>\n      <td>109.641026</td>\n      <td>39.0</td>\n      <td>8.0</td>\n      <td>12.0</td>\n      <td>1.0</td>\n      <td>48.0</td>\n      <td>0</td>\n      <td>61.0</td>\n      <td>249.0</td>\n    </tr>\n    <tr>\n      <th>1</th>\n      <td>531789659</td>\n      <td>Xxx</td>\n      <td>Xxx</td>\n      <td>1.2.2005</td>\n      <td>19</td>\n      <td>358</td>\n      <td>0.000000</td>\n      <td>0.0</td>\n      <td>0.0</td>\n      <td>20.0</td>\n      <td>17.0</td>\n      <td>4.0</td>\n      <td>2</td>\n      <td>2.0</td>\n      <td>9.0</td>\n    </tr>\n    <tr>\n      <th>2</th>\n      <td>310682547</td>\n      <td>Красный</td>\n      <td>Луч</td>\n      <td>1.2.2005</td>\n      <td>19</td>\n      <td>359</td>\n      <td>111.000000</td>\n      <td>1.0</td>\n      <td>4.0</td>\n      <td>7.0</td>\n      <td>7.0</td>\n      <td>2.0</td>\n      <td>0</td>\n      <td>12.0</td>\n      <td>17.0</td>\n    </tr>\n    <tr>\n      <th>3</th>\n      <td>533102471</td>\n      <td>Wanny</td>\n      <td>Laemsan</td>\n      <td>1.2.2005</td>\n      <td>19</td>\n      <td>360</td>\n      <td>89.000000</td>\n      <td>2.0</td>\n      <td>10.0</td>\n      <td>10.0</td>\n      <td>0.0</td>\n      <td>-3.0</td>\n      <td>-3</td>\n      <td>272.0</td>\n      <td>1525.0</td>\n    </tr>\n    <tr>\n      <th>4</th>\n      <td>563215118</td>\n      <td>Channel-Myanmar</td>\n      <td>Movies</td>\n      <td>1.2.2005</td>\n      <td>19</td>\n      <td>361</td>\n      <td>7.000000</td>\n      <td>3.0</td>\n      <td>10.0</td>\n      <td>10.0</td>\n      <td>1.0</td>\n      <td>4.0</td>\n      <td>0</td>\n      <td>35.0</td>\n      <td>139.0</td>\n    </tr>\n    <tr>\n      <th>...</th>\n      <td>...</td>\n      <td>...</td>\n      <td>...</td>\n      <td>...</td>\n      <td>...</td>\n      <td>...</td>\n      <td>...</td>\n      <td>...</td>\n      <td>...</td>\n      <td>...</td>\n      <td>...</td>\n      <td>...</td>\n      <td>...</td>\n      <td>...</td>\n      <td>...</td>\n    </tr>\n    <tr>\n      <th>145</th>\n      <td>474922593</td>\n      <td>Костя</td>\n      <td>Вишняков</td>\n      <td>1.2.2005</td>\n      <td>19</td>\n      <td>502</td>\n      <td>109.000000</td>\n      <td>2.0</td>\n      <td>3.0</td>\n      <td>0.0</td>\n      <td>0.0</td>\n      <td>79.0</td>\n      <td>0</td>\n      <td>27.0</td>\n      <td>99.0</td>\n    </tr>\n    <tr>\n      <th>146</th>\n      <td>312572160</td>\n      <td>Саша</td>\n      <td>Москвичёва</td>\n      <td>1.2.2005</td>\n      <td>19</td>\n      <td>503</td>\n      <td>82.533333</td>\n      <td>15.0</td>\n      <td>6.0</td>\n      <td>0.0</td>\n      <td>0.0</td>\n      <td>23.0</td>\n      <td>0</td>\n      <td>26.0</td>\n      <td>117.0</td>\n    </tr>\n    <tr>\n      <th>147</th>\n      <td>392523496</td>\n      <td>Омар</td>\n      <td>Магомедов</td>\n      <td>1.2.2005</td>\n      <td>19</td>\n      <td>504</td>\n      <td>85.000000</td>\n      <td>2.0</td>\n      <td>4.0</td>\n      <td>0.0</td>\n      <td>0.0</td>\n      <td>200.0</td>\n      <td>7</td>\n      <td>32.0</td>\n      <td>140.0</td>\n    </tr>\n    <tr>\n      <th>148</th>\n      <td>442738014</td>\n      <td>Константин</td>\n      <td>Савчук</td>\n      <td>1.2.2005</td>\n      <td>19</td>\n      <td>505</td>\n      <td>13.115385</td>\n      <td>26.0</td>\n      <td>14.0</td>\n      <td>6.0</td>\n      <td>0.0</td>\n      <td>200.0</td>\n      <td>0</td>\n      <td>50.0</td>\n      <td>384.0</td>\n    </tr>\n    <tr>\n      <th>149</th>\n      <td>394273676</td>\n      <td>Алёна</td>\n      <td>Николаева</td>\n      <td>1.2.2005</td>\n      <td>19</td>\n      <td>506</td>\n      <td>43.750000</td>\n      <td>4.0</td>\n      <td>3.0</td>\n      <td>0.0</td>\n      <td>0.0</td>\n      <td>101.0</td>\n      <td>1</td>\n      <td>4.0</td>\n      <td>55.0</td>\n    </tr>\n  </tbody>\n</table>\n<p>150 rows × 15 columns</p>\n</div>"
     },
     "execution_count": 182,
     "metadata": {},
     "output_type": "execute_result"
    }
   ],
   "source": [
    "user_new[\"avg_photo_likes\"] = user_new[\"avg_photo_likes\"].fillna(0)\n",
    "user_new[\"photo_count\"] = user_new[\"photo_count\"].fillna(0)\n",
    "user_new[\"post_count_owner\"] = user_new[\"post_count_owner\"].fillna(0)\n",
    "user_new[\"post_count_friend\"] = user_new[\"post_count_friend\"].fillna(0)\n",
    "user_new[\"post_count_delete\"] = user_new[\"post_count_delete\"].fillna(0)\n",
    "\n",
    "user_new.fillna(-3, inplace=True)\n",
    "user_new"
   ],
   "metadata": {
    "collapsed": false,
    "ExecuteTime": {
     "end_time": "2024-10-23T08:57:02.998028400Z",
     "start_time": "2024-10-23T08:57:02.413017400Z"
    }
   }
  },
  {
   "cell_type": "code",
   "execution_count": 183,
   "outputs": [
    {
     "data": {
      "text/plain": "     avg_photo_likes  photo_count  post_count_owner  post_count_friend  \\\n0         109.641026         39.0               8.0               12.0   \n1           0.000000          0.0               0.0               20.0   \n2         111.000000          1.0               4.0                7.0   \n3          89.000000          2.0              10.0               10.0   \n4           7.000000          3.0              10.0               10.0   \n..               ...          ...               ...                ...   \n145       109.000000          2.0               3.0                0.0   \n146        82.533333         15.0               6.0                0.0   \n147        85.000000          2.0               4.0                0.0   \n148        13.115385         26.0              14.0                6.0   \n149        43.750000          4.0               3.0                0.0   \n\n     post_count_delete  group_count  anon_pab  diff_city_count  friend_count  \n0                  1.0         48.0         0             61.0         249.0  \n1                 17.0          4.0         2              2.0           9.0  \n2                  7.0          2.0         0             12.0          17.0  \n3                  0.0         -3.0        -3            272.0        1525.0  \n4                  1.0          4.0         0             35.0         139.0  \n..                 ...          ...       ...              ...           ...  \n145                0.0         79.0         0             27.0          99.0  \n146                0.0         23.0         0             26.0         117.0  \n147                0.0        200.0         7             32.0         140.0  \n148                0.0        200.0         0             50.0         384.0  \n149                0.0        101.0         1              4.0          55.0  \n\n[150 rows x 9 columns]",
      "text/html": "<div>\n<style scoped>\n    .dataframe tbody tr th:only-of-type {\n        vertical-align: middle;\n    }\n\n    .dataframe tbody tr th {\n        vertical-align: top;\n    }\n\n    .dataframe thead th {\n        text-align: right;\n    }\n</style>\n<table border=\"1\" class=\"dataframe\">\n  <thead>\n    <tr style=\"text-align: right;\">\n      <th></th>\n      <th>avg_photo_likes</th>\n      <th>photo_count</th>\n      <th>post_count_owner</th>\n      <th>post_count_friend</th>\n      <th>post_count_delete</th>\n      <th>group_count</th>\n      <th>anon_pab</th>\n      <th>diff_city_count</th>\n      <th>friend_count</th>\n    </tr>\n  </thead>\n  <tbody>\n    <tr>\n      <th>0</th>\n      <td>109.641026</td>\n      <td>39.0</td>\n      <td>8.0</td>\n      <td>12.0</td>\n      <td>1.0</td>\n      <td>48.0</td>\n      <td>0</td>\n      <td>61.0</td>\n      <td>249.0</td>\n    </tr>\n    <tr>\n      <th>1</th>\n      <td>0.000000</td>\n      <td>0.0</td>\n      <td>0.0</td>\n      <td>20.0</td>\n      <td>17.0</td>\n      <td>4.0</td>\n      <td>2</td>\n      <td>2.0</td>\n      <td>9.0</td>\n    </tr>\n    <tr>\n      <th>2</th>\n      <td>111.000000</td>\n      <td>1.0</td>\n      <td>4.0</td>\n      <td>7.0</td>\n      <td>7.0</td>\n      <td>2.0</td>\n      <td>0</td>\n      <td>12.0</td>\n      <td>17.0</td>\n    </tr>\n    <tr>\n      <th>3</th>\n      <td>89.000000</td>\n      <td>2.0</td>\n      <td>10.0</td>\n      <td>10.0</td>\n      <td>0.0</td>\n      <td>-3.0</td>\n      <td>-3</td>\n      <td>272.0</td>\n      <td>1525.0</td>\n    </tr>\n    <tr>\n      <th>4</th>\n      <td>7.000000</td>\n      <td>3.0</td>\n      <td>10.0</td>\n      <td>10.0</td>\n      <td>1.0</td>\n      <td>4.0</td>\n      <td>0</td>\n      <td>35.0</td>\n      <td>139.0</td>\n    </tr>\n    <tr>\n      <th>...</th>\n      <td>...</td>\n      <td>...</td>\n      <td>...</td>\n      <td>...</td>\n      <td>...</td>\n      <td>...</td>\n      <td>...</td>\n      <td>...</td>\n      <td>...</td>\n    </tr>\n    <tr>\n      <th>145</th>\n      <td>109.000000</td>\n      <td>2.0</td>\n      <td>3.0</td>\n      <td>0.0</td>\n      <td>0.0</td>\n      <td>79.0</td>\n      <td>0</td>\n      <td>27.0</td>\n      <td>99.0</td>\n    </tr>\n    <tr>\n      <th>146</th>\n      <td>82.533333</td>\n      <td>15.0</td>\n      <td>6.0</td>\n      <td>0.0</td>\n      <td>0.0</td>\n      <td>23.0</td>\n      <td>0</td>\n      <td>26.0</td>\n      <td>117.0</td>\n    </tr>\n    <tr>\n      <th>147</th>\n      <td>85.000000</td>\n      <td>2.0</td>\n      <td>4.0</td>\n      <td>0.0</td>\n      <td>0.0</td>\n      <td>200.0</td>\n      <td>7</td>\n      <td>32.0</td>\n      <td>140.0</td>\n    </tr>\n    <tr>\n      <th>148</th>\n      <td>13.115385</td>\n      <td>26.0</td>\n      <td>14.0</td>\n      <td>6.0</td>\n      <td>0.0</td>\n      <td>200.0</td>\n      <td>0</td>\n      <td>50.0</td>\n      <td>384.0</td>\n    </tr>\n    <tr>\n      <th>149</th>\n      <td>43.750000</td>\n      <td>4.0</td>\n      <td>3.0</td>\n      <td>0.0</td>\n      <td>0.0</td>\n      <td>101.0</td>\n      <td>1</td>\n      <td>4.0</td>\n      <td>55.0</td>\n    </tr>\n  </tbody>\n</table>\n<p>150 rows × 9 columns</p>\n</div>"
     },
     "execution_count": 183,
     "metadata": {},
     "output_type": "execute_result"
    }
   ],
   "source": [
    "test_old = user_new.copy()\n",
    "test = user_new.drop(columns=[\"vk_id\", \"age\", \"user_id\", \"first_name\", \"last_name\", \"birth_date\"])\n",
    "test"
   ],
   "metadata": {
    "collapsed": false,
    "ExecuteTime": {
     "end_time": "2024-10-23T08:57:03.203552700Z",
     "start_time": "2024-10-23T08:57:02.496734900Z"
    }
   }
  },
  {
   "cell_type": "code",
   "execution_count": 184,
   "outputs": [
    {
     "data": {
      "text/plain": "     avg_photo_likes  photo_count  post_count_owner  post_count_friend  \\\n0         109.641026         39.0               8.0               12.0   \n1           0.000000          0.0               0.0               20.0   \n2         111.000000          1.0               4.0                7.0   \n3          89.000000          2.0              10.0               10.0   \n4           7.000000          3.0              10.0               10.0   \n..               ...          ...               ...                ...   \n145       109.000000          2.0               3.0                0.0   \n146        82.533333         15.0               6.0                0.0   \n147        85.000000          2.0               4.0                0.0   \n148        13.115385         26.0              14.0                6.0   \n149        43.750000          4.0               3.0                0.0   \n\n     post_count_delete  group_count  anon_pab  diff_city_count  friend_count  \n0                  1.0    -0.649729  0.000000         1.327527      1.060106  \n1                 17.0    -2.913764  1.000000        -2.033220     -1.895499  \n2                  7.0    -3.420484  0.000000        -0.406028     -1.355787  \n3                  0.0    -2.000000 -2.000000         2.972475      2.721097  \n4                  1.0    -2.913764  0.000000         0.724278      0.527711  \n..                 ...          ...       ...              ...           ...  \n145                0.0    -0.163464  0.000000         0.445394      0.218758  \n146                0.0    -1.357758  0.000000         0.405037      0.370735  \n147                0.0     0.750409  1.892789         0.627721      0.534246  \n148                0.0     0.750409  0.000000         1.110793      1.456573  \n149                0.0     0.077530  0.630930        -1.466358     -0.313637  \n\n[150 rows x 9 columns]",
      "text/html": "<div>\n<style scoped>\n    .dataframe tbody tr th:only-of-type {\n        vertical-align: middle;\n    }\n\n    .dataframe tbody tr th {\n        vertical-align: top;\n    }\n\n    .dataframe thead th {\n        text-align: right;\n    }\n</style>\n<table border=\"1\" class=\"dataframe\">\n  <thead>\n    <tr style=\"text-align: right;\">\n      <th></th>\n      <th>avg_photo_likes</th>\n      <th>photo_count</th>\n      <th>post_count_owner</th>\n      <th>post_count_friend</th>\n      <th>post_count_delete</th>\n      <th>group_count</th>\n      <th>anon_pab</th>\n      <th>diff_city_count</th>\n      <th>friend_count</th>\n    </tr>\n  </thead>\n  <tbody>\n    <tr>\n      <th>0</th>\n      <td>109.641026</td>\n      <td>39.0</td>\n      <td>8.0</td>\n      <td>12.0</td>\n      <td>1.0</td>\n      <td>-0.649729</td>\n      <td>0.000000</td>\n      <td>1.327527</td>\n      <td>1.060106</td>\n    </tr>\n    <tr>\n      <th>1</th>\n      <td>0.000000</td>\n      <td>0.0</td>\n      <td>0.0</td>\n      <td>20.0</td>\n      <td>17.0</td>\n      <td>-2.913764</td>\n      <td>1.000000</td>\n      <td>-2.033220</td>\n      <td>-1.895499</td>\n    </tr>\n    <tr>\n      <th>2</th>\n      <td>111.000000</td>\n      <td>1.0</td>\n      <td>4.0</td>\n      <td>7.0</td>\n      <td>7.0</td>\n      <td>-3.420484</td>\n      <td>0.000000</td>\n      <td>-0.406028</td>\n      <td>-1.355787</td>\n    </tr>\n    <tr>\n      <th>3</th>\n      <td>89.000000</td>\n      <td>2.0</td>\n      <td>10.0</td>\n      <td>10.0</td>\n      <td>0.0</td>\n      <td>-2.000000</td>\n      <td>-2.000000</td>\n      <td>2.972475</td>\n      <td>2.721097</td>\n    </tr>\n    <tr>\n      <th>4</th>\n      <td>7.000000</td>\n      <td>3.0</td>\n      <td>10.0</td>\n      <td>10.0</td>\n      <td>1.0</td>\n      <td>-2.913764</td>\n      <td>0.000000</td>\n      <td>0.724278</td>\n      <td>0.527711</td>\n    </tr>\n    <tr>\n      <th>...</th>\n      <td>...</td>\n      <td>...</td>\n      <td>...</td>\n      <td>...</td>\n      <td>...</td>\n      <td>...</td>\n      <td>...</td>\n      <td>...</td>\n      <td>...</td>\n    </tr>\n    <tr>\n      <th>145</th>\n      <td>109.000000</td>\n      <td>2.0</td>\n      <td>3.0</td>\n      <td>0.0</td>\n      <td>0.0</td>\n      <td>-0.163464</td>\n      <td>0.000000</td>\n      <td>0.445394</td>\n      <td>0.218758</td>\n    </tr>\n    <tr>\n      <th>146</th>\n      <td>82.533333</td>\n      <td>15.0</td>\n      <td>6.0</td>\n      <td>0.0</td>\n      <td>0.0</td>\n      <td>-1.357758</td>\n      <td>0.000000</td>\n      <td>0.405037</td>\n      <td>0.370735</td>\n    </tr>\n    <tr>\n      <th>147</th>\n      <td>85.000000</td>\n      <td>2.0</td>\n      <td>4.0</td>\n      <td>0.0</td>\n      <td>0.0</td>\n      <td>0.750409</td>\n      <td>1.892789</td>\n      <td>0.627721</td>\n      <td>0.534246</td>\n    </tr>\n    <tr>\n      <th>148</th>\n      <td>13.115385</td>\n      <td>26.0</td>\n      <td>14.0</td>\n      <td>6.0</td>\n      <td>0.0</td>\n      <td>0.750409</td>\n      <td>0.000000</td>\n      <td>1.110793</td>\n      <td>1.456573</td>\n    </tr>\n    <tr>\n      <th>149</th>\n      <td>43.750000</td>\n      <td>4.0</td>\n      <td>3.0</td>\n      <td>0.0</td>\n      <td>0.0</td>\n      <td>0.077530</td>\n      <td>0.630930</td>\n      <td>-1.466358</td>\n      <td>-0.313637</td>\n    </tr>\n  </tbody>\n</table>\n<p>150 rows × 9 columns</p>\n</div>"
     },
     "execution_count": 184,
     "metadata": {},
     "output_type": "execute_result"
    }
   ],
   "source": [
    "# Стандартизация только видимых друзей\n",
    "from sklearn.preprocessing import StandardScaler, RobustScaler, MinMaxScaler\n",
    "\n",
    "test[\"friend_count\"] = test[\"friend_count\"].replace(0, np.nan).apply(lambda x: np.log1p(x) if x != -3 else x)\n",
    "test[\"friend_count\"] = test[\"friend_count\"].replace(np.nan, 0)\n",
    "test[\"friend_count\"] = test[\"friend_count\"].replace(-3, np.nan)\n",
    "\n",
    "f_sc = load('f_sc.joblib')\n",
    "test['friend_count'] = f_sc.fit_transform(test['friend_count'].values.reshape(-1, 1))\n",
    "\n",
    "test[\"diff_city_count\"] = test[\"diff_city_count\"].replace(0, np.nan).apply(lambda x: np.log1p(x) if x != -3 else x)\n",
    "test[\"diff_city_count\"] = test[\"diff_city_count\"].replace(np.nan, 0)\n",
    "test[\"diff_city_count\"] = test[\"diff_city_count\"].replace(-3, np.nan)\n",
    "diff_sc = load('diff_sc.joblib')\n",
    "test['diff_city_count'] = diff_sc.fit_transform(test['diff_city_count'].values.reshape(-1, 1))\n",
    "\n",
    "test[\"group_count\"] = test[\"group_count\"].replace(0, np.nan).apply(lambda x: np.log1p(x) if x != -3 else x)\n",
    "test[\"group_count\"] = test[\"group_count\"].replace(np.nan, 0)\n",
    "test[\"group_count\"] = test[\"group_count\"].replace(-3, np.nan)\n",
    "gr_sc = load('gr_sc.joblib')\n",
    "test['group_count'] = gr_sc.fit_transform(test['group_count'].values.reshape(-1, 1))\n",
    "\n",
    "test[\"anon_pab\"] = test[\"anon_pab\"].replace(0, np.nan).apply(lambda x: np.log1p(x) if x != -3 else x)\n",
    "test[\"anon_pab\"] = test[\"anon_pab\"].replace(np.nan, 0)\n",
    "test[\"anon_pab\"] = test[\"anon_pab\"].replace(-3, np.nan)\n",
    "anon_sc = load('anon_sc.joblib')\n",
    "test['anon_pab'] = anon_sc.fit_transform(test['anon_pab'].values.reshape(-1, 1))\n",
    "\n",
    "test.fillna(-2, inplace=True)\n",
    "test"
   ],
   "metadata": {
    "collapsed": false,
    "ExecuteTime": {
     "end_time": "2024-10-23T08:57:03.425647900Z",
     "start_time": "2024-10-23T08:57:02.529807100Z"
    }
   }
  },
  {
   "cell_type": "code",
   "execution_count": 185,
   "outputs": [
    {
     "data": {
      "text/plain": "     avg_photo_likes  photo_count  post_count_owner  post_count_friend  \\\n0           1.014235     1.041215              0.40               0.60   \n1           0.000000     0.000000              0.00               1.00   \n2           1.026775    -0.748376              0.20               0.35   \n3           0.802137    -0.506159              0.50               0.50   \n4          -1.684066    -0.334303              0.50               0.50   \n..               ...          ...               ...                ...   \n145         1.008266    -0.506159              0.15               0.00   \n146         0.725545     0.493841              0.30               0.00   \n147         0.755438    -0.506159              0.20               0.00   \n148        -1.100797     0.806419              0.70               0.30   \n149         0.084413    -0.201002              0.15               0.00   \n\n     post_count_delete  group_count  anon_pab  diff_city_count  friend_count  \n0             0.058824    -0.649729  0.000000         1.327527      1.060106  \n1             1.000000    -2.913764  1.000000        -2.033220     -1.895499  \n2             0.411765    -3.420484  0.000000        -0.406028     -1.355787  \n3             0.000000    -2.000000 -2.000000         2.972475      2.721097  \n4             0.058824    -2.913764  0.000000         0.724278      0.527711  \n..                 ...          ...       ...              ...           ...  \n145           0.000000    -0.163464  0.000000         0.445394      0.218758  \n146           0.000000    -1.357758  0.000000         0.405037      0.370735  \n147           0.000000     0.750409  1.892789         0.627721      0.534246  \n148           0.000000     0.750409  0.000000         1.110793      1.456573  \n149           0.000000     0.077530  0.630930        -1.466358     -0.313637  \n\n[150 rows x 9 columns]",
      "text/html": "<div>\n<style scoped>\n    .dataframe tbody tr th:only-of-type {\n        vertical-align: middle;\n    }\n\n    .dataframe tbody tr th {\n        vertical-align: top;\n    }\n\n    .dataframe thead th {\n        text-align: right;\n    }\n</style>\n<table border=\"1\" class=\"dataframe\">\n  <thead>\n    <tr style=\"text-align: right;\">\n      <th></th>\n      <th>avg_photo_likes</th>\n      <th>photo_count</th>\n      <th>post_count_owner</th>\n      <th>post_count_friend</th>\n      <th>post_count_delete</th>\n      <th>group_count</th>\n      <th>anon_pab</th>\n      <th>diff_city_count</th>\n      <th>friend_count</th>\n    </tr>\n  </thead>\n  <tbody>\n    <tr>\n      <th>0</th>\n      <td>1.014235</td>\n      <td>1.041215</td>\n      <td>0.40</td>\n      <td>0.60</td>\n      <td>0.058824</td>\n      <td>-0.649729</td>\n      <td>0.000000</td>\n      <td>1.327527</td>\n      <td>1.060106</td>\n    </tr>\n    <tr>\n      <th>1</th>\n      <td>0.000000</td>\n      <td>0.000000</td>\n      <td>0.00</td>\n      <td>1.00</td>\n      <td>1.000000</td>\n      <td>-2.913764</td>\n      <td>1.000000</td>\n      <td>-2.033220</td>\n      <td>-1.895499</td>\n    </tr>\n    <tr>\n      <th>2</th>\n      <td>1.026775</td>\n      <td>-0.748376</td>\n      <td>0.20</td>\n      <td>0.35</td>\n      <td>0.411765</td>\n      <td>-3.420484</td>\n      <td>0.000000</td>\n      <td>-0.406028</td>\n      <td>-1.355787</td>\n    </tr>\n    <tr>\n      <th>3</th>\n      <td>0.802137</td>\n      <td>-0.506159</td>\n      <td>0.50</td>\n      <td>0.50</td>\n      <td>0.000000</td>\n      <td>-2.000000</td>\n      <td>-2.000000</td>\n      <td>2.972475</td>\n      <td>2.721097</td>\n    </tr>\n    <tr>\n      <th>4</th>\n      <td>-1.684066</td>\n      <td>-0.334303</td>\n      <td>0.50</td>\n      <td>0.50</td>\n      <td>0.058824</td>\n      <td>-2.913764</td>\n      <td>0.000000</td>\n      <td>0.724278</td>\n      <td>0.527711</td>\n    </tr>\n    <tr>\n      <th>...</th>\n      <td>...</td>\n      <td>...</td>\n      <td>...</td>\n      <td>...</td>\n      <td>...</td>\n      <td>...</td>\n      <td>...</td>\n      <td>...</td>\n      <td>...</td>\n    </tr>\n    <tr>\n      <th>145</th>\n      <td>1.008266</td>\n      <td>-0.506159</td>\n      <td>0.15</td>\n      <td>0.00</td>\n      <td>0.000000</td>\n      <td>-0.163464</td>\n      <td>0.000000</td>\n      <td>0.445394</td>\n      <td>0.218758</td>\n    </tr>\n    <tr>\n      <th>146</th>\n      <td>0.725545</td>\n      <td>0.493841</td>\n      <td>0.30</td>\n      <td>0.00</td>\n      <td>0.000000</td>\n      <td>-1.357758</td>\n      <td>0.000000</td>\n      <td>0.405037</td>\n      <td>0.370735</td>\n    </tr>\n    <tr>\n      <th>147</th>\n      <td>0.755438</td>\n      <td>-0.506159</td>\n      <td>0.20</td>\n      <td>0.00</td>\n      <td>0.000000</td>\n      <td>0.750409</td>\n      <td>1.892789</td>\n      <td>0.627721</td>\n      <td>0.534246</td>\n    </tr>\n    <tr>\n      <th>148</th>\n      <td>-1.100797</td>\n      <td>0.806419</td>\n      <td>0.70</td>\n      <td>0.30</td>\n      <td>0.000000</td>\n      <td>0.750409</td>\n      <td>0.000000</td>\n      <td>1.110793</td>\n      <td>1.456573</td>\n    </tr>\n    <tr>\n      <th>149</th>\n      <td>0.084413</td>\n      <td>-0.201002</td>\n      <td>0.15</td>\n      <td>0.00</td>\n      <td>0.000000</td>\n      <td>0.077530</td>\n      <td>0.630930</td>\n      <td>-1.466358</td>\n      <td>-0.313637</td>\n    </tr>\n  </tbody>\n</table>\n<p>150 rows × 9 columns</p>\n</div>"
     },
     "execution_count": 185,
     "metadata": {},
     "output_type": "execute_result"
    }
   ],
   "source": [
    "from sklearn.preprocessing import MinMaxScaler\n",
    "\n",
    "test[\"avg_photo_likes\"] = test[\"avg_photo_likes\"].replace(0, np.nan).apply(lambda x: np.log1p(x))\n",
    "test[\"photo_count\"] = test[\"photo_count\"].replace(0, np.nan).apply(lambda x: np.log1p(x))\n",
    "\n",
    "postO_sc = load('postO_sc.joblib')\n",
    "test['post_count_owner'] = postO_sc.fit_transform(test['post_count_owner'].values.reshape(-1, 1))\n",
    "\n",
    "postF_sc = load('postF_sc.joblib')\n",
    "test['post_count_friend'] = postF_sc.fit_transform(test['post_count_friend'].values.reshape(-1, 1))\n",
    "\n",
    "postD_sc = load('postD_sc.joblib')\n",
    "test['post_count_delete'] = postD_sc.fit_transform(test['post_count_delete'].values.reshape(-1, 1))\n",
    "\n",
    "like_sc = load('like_sc.joblib')\n",
    "test['avg_photo_likes'] = like_sc.fit_transform(test['avg_photo_likes'].values.reshape(-1, 1))\n",
    "\n",
    "photoC_sc = load('photoC_sc.joblib')\n",
    "test['photo_count'] = photoC_sc.fit_transform(test['photo_count'].values.reshape(-1, 1))\n",
    "test.fillna(0, inplace=True)\n",
    "test"
   ],
   "metadata": {
    "collapsed": false,
    "ExecuteTime": {
     "end_time": "2024-10-23T08:57:03.542360600Z",
     "start_time": "2024-10-23T08:57:02.632225500Z"
    }
   }
  },
  {
   "cell_type": "code",
   "execution_count": 186,
   "outputs": [
    {
     "data": {
      "text/plain": "         vk_id       first_name   last_name birth_date  age  user_id  \\\n0    447989889            Арина    Анурьева   1.2.2005   19      357   \n1    531789659              Xxx         Xxx   1.2.2005   19      358   \n2    310682547          Красный         Луч   1.2.2005   19      359   \n3    533102471            Wanny     Laemsan   1.2.2005   19      360   \n4    563215118  Channel-Myanmar      Movies   1.2.2005   19      361   \n..         ...              ...         ...        ...  ...      ...   \n145  474922593            Костя    Вишняков   1.2.2005   19      502   \n146  312572160             Саша  Москвичёва   1.2.2005   19      503   \n147  392523496             Омар   Магомедов   1.2.2005   19      504   \n148  442738014       Константин      Савчук   1.2.2005   19      505   \n149  394273676            Алёна   Николаева   1.2.2005   19      506   \n\n     avg_photo_likes  photo_count  post_count_owner  post_count_friend  \\\n0         109.641026         39.0               8.0               12.0   \n1           0.000000          0.0               0.0               20.0   \n2         111.000000          1.0               4.0                7.0   \n3          89.000000          2.0              10.0               10.0   \n4           7.000000          3.0              10.0               10.0   \n..               ...          ...               ...                ...   \n145       109.000000          2.0               3.0                0.0   \n146        82.533333         15.0               6.0                0.0   \n147        85.000000          2.0               4.0                0.0   \n148        13.115385         26.0              14.0                6.0   \n149        43.750000          4.0               3.0                0.0   \n\n     post_count_delete  group_count  anon_pab  diff_city_count  friend_count  \\\n0                  1.0         48.0         0             61.0         249.0   \n1                 17.0          4.0         2              2.0           9.0   \n2                  7.0          2.0         0             12.0          17.0   \n3                  0.0         -3.0        -3            272.0        1525.0   \n4                  1.0          4.0         0             35.0         139.0   \n..                 ...          ...       ...              ...           ...   \n145                0.0         79.0         0             27.0          99.0   \n146                0.0         23.0         0             26.0         117.0   \n147                0.0        200.0         7             32.0         140.0   \n148                0.0        200.0         0             50.0         384.0   \n149                0.0        101.0         1              4.0          55.0   \n\n     predicted_cluster  \n0                    1  \n1                    0  \n2                    0  \n3                    1  \n4                    0  \n..                 ...  \n145                  1  \n146                  1  \n147                  1  \n148                  1  \n149                  0  \n\n[150 rows x 16 columns]",
      "text/html": "<div>\n<style scoped>\n    .dataframe tbody tr th:only-of-type {\n        vertical-align: middle;\n    }\n\n    .dataframe tbody tr th {\n        vertical-align: top;\n    }\n\n    .dataframe thead th {\n        text-align: right;\n    }\n</style>\n<table border=\"1\" class=\"dataframe\">\n  <thead>\n    <tr style=\"text-align: right;\">\n      <th></th>\n      <th>vk_id</th>\n      <th>first_name</th>\n      <th>last_name</th>\n      <th>birth_date</th>\n      <th>age</th>\n      <th>user_id</th>\n      <th>avg_photo_likes</th>\n      <th>photo_count</th>\n      <th>post_count_owner</th>\n      <th>post_count_friend</th>\n      <th>post_count_delete</th>\n      <th>group_count</th>\n      <th>anon_pab</th>\n      <th>diff_city_count</th>\n      <th>friend_count</th>\n      <th>predicted_cluster</th>\n    </tr>\n  </thead>\n  <tbody>\n    <tr>\n      <th>0</th>\n      <td>447989889</td>\n      <td>Арина</td>\n      <td>Анурьева</td>\n      <td>1.2.2005</td>\n      <td>19</td>\n      <td>357</td>\n      <td>109.641026</td>\n      <td>39.0</td>\n      <td>8.0</td>\n      <td>12.0</td>\n      <td>1.0</td>\n      <td>48.0</td>\n      <td>0</td>\n      <td>61.0</td>\n      <td>249.0</td>\n      <td>1</td>\n    </tr>\n    <tr>\n      <th>1</th>\n      <td>531789659</td>\n      <td>Xxx</td>\n      <td>Xxx</td>\n      <td>1.2.2005</td>\n      <td>19</td>\n      <td>358</td>\n      <td>0.000000</td>\n      <td>0.0</td>\n      <td>0.0</td>\n      <td>20.0</td>\n      <td>17.0</td>\n      <td>4.0</td>\n      <td>2</td>\n      <td>2.0</td>\n      <td>9.0</td>\n      <td>0</td>\n    </tr>\n    <tr>\n      <th>2</th>\n      <td>310682547</td>\n      <td>Красный</td>\n      <td>Луч</td>\n      <td>1.2.2005</td>\n      <td>19</td>\n      <td>359</td>\n      <td>111.000000</td>\n      <td>1.0</td>\n      <td>4.0</td>\n      <td>7.0</td>\n      <td>7.0</td>\n      <td>2.0</td>\n      <td>0</td>\n      <td>12.0</td>\n      <td>17.0</td>\n      <td>0</td>\n    </tr>\n    <tr>\n      <th>3</th>\n      <td>533102471</td>\n      <td>Wanny</td>\n      <td>Laemsan</td>\n      <td>1.2.2005</td>\n      <td>19</td>\n      <td>360</td>\n      <td>89.000000</td>\n      <td>2.0</td>\n      <td>10.0</td>\n      <td>10.0</td>\n      <td>0.0</td>\n      <td>-3.0</td>\n      <td>-3</td>\n      <td>272.0</td>\n      <td>1525.0</td>\n      <td>1</td>\n    </tr>\n    <tr>\n      <th>4</th>\n      <td>563215118</td>\n      <td>Channel-Myanmar</td>\n      <td>Movies</td>\n      <td>1.2.2005</td>\n      <td>19</td>\n      <td>361</td>\n      <td>7.000000</td>\n      <td>3.0</td>\n      <td>10.0</td>\n      <td>10.0</td>\n      <td>1.0</td>\n      <td>4.0</td>\n      <td>0</td>\n      <td>35.0</td>\n      <td>139.0</td>\n      <td>0</td>\n    </tr>\n    <tr>\n      <th>...</th>\n      <td>...</td>\n      <td>...</td>\n      <td>...</td>\n      <td>...</td>\n      <td>...</td>\n      <td>...</td>\n      <td>...</td>\n      <td>...</td>\n      <td>...</td>\n      <td>...</td>\n      <td>...</td>\n      <td>...</td>\n      <td>...</td>\n      <td>...</td>\n      <td>...</td>\n      <td>...</td>\n    </tr>\n    <tr>\n      <th>145</th>\n      <td>474922593</td>\n      <td>Костя</td>\n      <td>Вишняков</td>\n      <td>1.2.2005</td>\n      <td>19</td>\n      <td>502</td>\n      <td>109.000000</td>\n      <td>2.0</td>\n      <td>3.0</td>\n      <td>0.0</td>\n      <td>0.0</td>\n      <td>79.0</td>\n      <td>0</td>\n      <td>27.0</td>\n      <td>99.0</td>\n      <td>1</td>\n    </tr>\n    <tr>\n      <th>146</th>\n      <td>312572160</td>\n      <td>Саша</td>\n      <td>Москвичёва</td>\n      <td>1.2.2005</td>\n      <td>19</td>\n      <td>503</td>\n      <td>82.533333</td>\n      <td>15.0</td>\n      <td>6.0</td>\n      <td>0.0</td>\n      <td>0.0</td>\n      <td>23.0</td>\n      <td>0</td>\n      <td>26.0</td>\n      <td>117.0</td>\n      <td>1</td>\n    </tr>\n    <tr>\n      <th>147</th>\n      <td>392523496</td>\n      <td>Омар</td>\n      <td>Магомедов</td>\n      <td>1.2.2005</td>\n      <td>19</td>\n      <td>504</td>\n      <td>85.000000</td>\n      <td>2.0</td>\n      <td>4.0</td>\n      <td>0.0</td>\n      <td>0.0</td>\n      <td>200.0</td>\n      <td>7</td>\n      <td>32.0</td>\n      <td>140.0</td>\n      <td>1</td>\n    </tr>\n    <tr>\n      <th>148</th>\n      <td>442738014</td>\n      <td>Константин</td>\n      <td>Савчук</td>\n      <td>1.2.2005</td>\n      <td>19</td>\n      <td>505</td>\n      <td>13.115385</td>\n      <td>26.0</td>\n      <td>14.0</td>\n      <td>6.0</td>\n      <td>0.0</td>\n      <td>200.0</td>\n      <td>0</td>\n      <td>50.0</td>\n      <td>384.0</td>\n      <td>1</td>\n    </tr>\n    <tr>\n      <th>149</th>\n      <td>394273676</td>\n      <td>Алёна</td>\n      <td>Николаева</td>\n      <td>1.2.2005</td>\n      <td>19</td>\n      <td>506</td>\n      <td>43.750000</td>\n      <td>4.0</td>\n      <td>3.0</td>\n      <td>0.0</td>\n      <td>0.0</td>\n      <td>101.0</td>\n      <td>1</td>\n      <td>4.0</td>\n      <td>55.0</td>\n      <td>0</td>\n    </tr>\n  </tbody>\n</table>\n<p>150 rows × 16 columns</p>\n</div>"
     },
     "execution_count": 186,
     "metadata": {},
     "output_type": "execute_result"
    }
   ],
   "source": [
    "kmeans = load(\"kmeans1.joblib\")\n",
    "# Делаем предсказания для нового датасета на обученной модели KMeans\n",
    "predicted_clusters = kmeans.predict(test)\n",
    "\n",
    "# Добавляем результат предсказаний к новому датасету\n",
    "test['predicted_cluster'] = predicted_clusters\n",
    "test_old['predicted_cluster'] = predicted_clusters\n",
    "test_old"
   ],
   "metadata": {
    "collapsed": false,
    "ExecuteTime": {
     "end_time": "2024-10-23T08:57:03.623657400Z",
     "start_time": "2024-10-23T08:57:02.715287800Z"
    }
   }
  },
  {
   "cell_type": "code",
   "execution_count": 187,
   "outputs": [
    {
     "data": {
      "text/plain": "     avg_photo_likes  photo_count  post_count_owner  post_count_friend  \\\n0           1.014235     1.041215              0.40               0.60   \n1           0.000000     0.000000              0.00               1.00   \n2           1.026775    -0.748376              0.20               0.35   \n3           0.802137    -0.506159              0.50               0.50   \n4          -1.684066    -0.334303              0.50               0.50   \n..               ...          ...               ...                ...   \n145         1.008266    -0.506159              0.15               0.00   \n146         0.725545     0.493841              0.30               0.00   \n147         0.755438    -0.506159              0.20               0.00   \n148        -1.100797     0.806419              0.70               0.30   \n149         0.084413    -0.201002              0.15               0.00   \n\n     post_count_delete  group_count  anon_pab  diff_city_count  friend_count  \\\n0             0.058824    -0.649729  0.000000         1.327527      1.060106   \n1             1.000000    -2.913764  1.000000        -2.033220     -1.895499   \n2             0.411765    -3.420484  0.000000        -0.406028     -1.355787   \n3             0.000000    -2.000000 -2.000000         2.972475      2.721097   \n4             0.058824    -2.913764  0.000000         0.724278      0.527711   \n..                 ...          ...       ...              ...           ...   \n145           0.000000    -0.163464  0.000000         0.445394      0.218758   \n146           0.000000    -1.357758  0.000000         0.405037      0.370735   \n147           0.000000     0.750409  1.892789         0.627721      0.534246   \n148           0.000000     0.750409  0.000000         1.110793      1.456573   \n149           0.000000     0.077530  0.630930        -1.466358     -0.313637   \n\n     predicted_cluster  \n0                    1  \n1                    0  \n2                    0  \n3                    1  \n4                    0  \n..                 ...  \n145                  1  \n146                  1  \n147                  1  \n148                  1  \n149                  0  \n\n[150 rows x 10 columns]",
      "text/html": "<div>\n<style scoped>\n    .dataframe tbody tr th:only-of-type {\n        vertical-align: middle;\n    }\n\n    .dataframe tbody tr th {\n        vertical-align: top;\n    }\n\n    .dataframe thead th {\n        text-align: right;\n    }\n</style>\n<table border=\"1\" class=\"dataframe\">\n  <thead>\n    <tr style=\"text-align: right;\">\n      <th></th>\n      <th>avg_photo_likes</th>\n      <th>photo_count</th>\n      <th>post_count_owner</th>\n      <th>post_count_friend</th>\n      <th>post_count_delete</th>\n      <th>group_count</th>\n      <th>anon_pab</th>\n      <th>diff_city_count</th>\n      <th>friend_count</th>\n      <th>predicted_cluster</th>\n    </tr>\n  </thead>\n  <tbody>\n    <tr>\n      <th>0</th>\n      <td>1.014235</td>\n      <td>1.041215</td>\n      <td>0.40</td>\n      <td>0.60</td>\n      <td>0.058824</td>\n      <td>-0.649729</td>\n      <td>0.000000</td>\n      <td>1.327527</td>\n      <td>1.060106</td>\n      <td>1</td>\n    </tr>\n    <tr>\n      <th>1</th>\n      <td>0.000000</td>\n      <td>0.000000</td>\n      <td>0.00</td>\n      <td>1.00</td>\n      <td>1.000000</td>\n      <td>-2.913764</td>\n      <td>1.000000</td>\n      <td>-2.033220</td>\n      <td>-1.895499</td>\n      <td>0</td>\n    </tr>\n    <tr>\n      <th>2</th>\n      <td>1.026775</td>\n      <td>-0.748376</td>\n      <td>0.20</td>\n      <td>0.35</td>\n      <td>0.411765</td>\n      <td>-3.420484</td>\n      <td>0.000000</td>\n      <td>-0.406028</td>\n      <td>-1.355787</td>\n      <td>0</td>\n    </tr>\n    <tr>\n      <th>3</th>\n      <td>0.802137</td>\n      <td>-0.506159</td>\n      <td>0.50</td>\n      <td>0.50</td>\n      <td>0.000000</td>\n      <td>-2.000000</td>\n      <td>-2.000000</td>\n      <td>2.972475</td>\n      <td>2.721097</td>\n      <td>1</td>\n    </tr>\n    <tr>\n      <th>4</th>\n      <td>-1.684066</td>\n      <td>-0.334303</td>\n      <td>0.50</td>\n      <td>0.50</td>\n      <td>0.058824</td>\n      <td>-2.913764</td>\n      <td>0.000000</td>\n      <td>0.724278</td>\n      <td>0.527711</td>\n      <td>0</td>\n    </tr>\n    <tr>\n      <th>...</th>\n      <td>...</td>\n      <td>...</td>\n      <td>...</td>\n      <td>...</td>\n      <td>...</td>\n      <td>...</td>\n      <td>...</td>\n      <td>...</td>\n      <td>...</td>\n      <td>...</td>\n    </tr>\n    <tr>\n      <th>145</th>\n      <td>1.008266</td>\n      <td>-0.506159</td>\n      <td>0.15</td>\n      <td>0.00</td>\n      <td>0.000000</td>\n      <td>-0.163464</td>\n      <td>0.000000</td>\n      <td>0.445394</td>\n      <td>0.218758</td>\n      <td>1</td>\n    </tr>\n    <tr>\n      <th>146</th>\n      <td>0.725545</td>\n      <td>0.493841</td>\n      <td>0.30</td>\n      <td>0.00</td>\n      <td>0.000000</td>\n      <td>-1.357758</td>\n      <td>0.000000</td>\n      <td>0.405037</td>\n      <td>0.370735</td>\n      <td>1</td>\n    </tr>\n    <tr>\n      <th>147</th>\n      <td>0.755438</td>\n      <td>-0.506159</td>\n      <td>0.20</td>\n      <td>0.00</td>\n      <td>0.000000</td>\n      <td>0.750409</td>\n      <td>1.892789</td>\n      <td>0.627721</td>\n      <td>0.534246</td>\n      <td>1</td>\n    </tr>\n    <tr>\n      <th>148</th>\n      <td>-1.100797</td>\n      <td>0.806419</td>\n      <td>0.70</td>\n      <td>0.30</td>\n      <td>0.000000</td>\n      <td>0.750409</td>\n      <td>0.000000</td>\n      <td>1.110793</td>\n      <td>1.456573</td>\n      <td>1</td>\n    </tr>\n    <tr>\n      <th>149</th>\n      <td>0.084413</td>\n      <td>-0.201002</td>\n      <td>0.15</td>\n      <td>0.00</td>\n      <td>0.000000</td>\n      <td>0.077530</td>\n      <td>0.630930</td>\n      <td>-1.466358</td>\n      <td>-0.313637</td>\n      <td>0</td>\n    </tr>\n  </tbody>\n</table>\n<p>150 rows × 10 columns</p>\n</div>"
     },
     "execution_count": 187,
     "metadata": {},
     "output_type": "execute_result"
    }
   ],
   "source": [
    "test"
   ],
   "metadata": {
    "collapsed": false,
    "ExecuteTime": {
     "end_time": "2024-10-23T08:57:03.675657100Z",
     "start_time": "2024-10-23T08:57:02.779257900Z"
    }
   }
  },
  {
   "cell_type": "code",
   "execution_count": 189,
   "outputs": [],
   "source": [
    "target1 = pd.DataFrame()\n",
    "target1[\"vk_id\"] = test_old[\"vk_id\"]\n",
    "target1[\"target1\"] = test_old[\"predicted_cluster\"].apply(lambda x: \"Э\" if x == 1 else \"И\")\n",
    "target1.to_csv(\"test_predict1.csv\", index=False)"
   ],
   "metadata": {
    "collapsed": false,
    "ExecuteTime": {
     "end_time": "2024-10-23T08:57:48.707020200Z",
     "start_time": "2024-10-23T08:57:48.683937300Z"
    }
   }
  }
 ],
 "metadata": {
  "kernelspec": {
   "display_name": "Python 3",
   "language": "python",
   "name": "python3"
  },
  "language_info": {
   "codemirror_mode": {
    "name": "ipython",
    "version": 2
   },
   "file_extension": ".py",
   "mimetype": "text/x-python",
   "name": "python",
   "nbconvert_exporter": "python",
   "pygments_lexer": "ipython2",
   "version": "2.7.6"
  }
 },
 "nbformat": 4,
 "nbformat_minor": 0
}
